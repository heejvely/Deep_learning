{
  "nbformat": 4,
  "nbformat_minor": 0,
  "metadata": {
    "colab": {
      "name": "평균제곱오차.ipynb",
      "provenance": [],
      "authorship_tag": "ABX9TyNTQHutcOyFw07AlhtNuN6F",
      "include_colab_link": true
    },
    "kernelspec": {
      "name": "python3",
      "display_name": "Python 3"
    },
    "language_info": {
      "name": "python"
    }
  },
  "cells": [
    {
      "cell_type": "markdown",
      "metadata": {
        "id": "view-in-github",
        "colab_type": "text"
      },
      "source": [
        "<a href=\"https://colab.research.google.com/github/heejvely/Deep_learning/blob/main/%ED%8F%89%EA%B7%A0%EC%A0%9C%EA%B3%B1%EC%98%A4%EC%B0%A8.ipynb\" target=\"_parent\"><img src=\"https://colab.research.google.com/assets/colab-badge.svg\" alt=\"Open In Colab\"/></a>"
      ]
    },
    {
      "cell_type": "markdown",
      "source": [
        "## - 선형 회귀란, 임의의 직선을 그어 이에 대한 평균 제곱 오차를 구하고, 이 값을 가장 작게 만들어주는 a와 b값을 찾아가는 작업\n",
        "\n",
        "- 평균제곱오치: 각 오차의 합의 제곱을 평균값으로 냄."
      ],
      "metadata": {
        "id": "6yqKGmJlHgMH"
      }
    },
    {
      "cell_type": "code",
      "execution_count": 2,
      "metadata": {
        "colab": {
          "base_uri": "https://localhost:8080/"
        },
        "id": "LzLQ7fAKF_KV",
        "outputId": "b00617fe-6b38-4665-985d-b46004a3c404"
      },
      "outputs": [
        {
          "output_type": "stream",
          "name": "stdout",
          "text": [
            "공부한 시간=2, 실제 점수:81, 예측 점수:82\n",
            "공부한 시간=4, 실제 점수:93, 예측 점수:88\n",
            "공부한 시간=6, 실제 점수:91, 예측 점수:94\n",
            "공부한 시간=8, 실제 점수:97, 예측 점수:100\n",
            "mse 최종값:11.0\n"
          ]
        }
      ],
      "source": [
        "import numpy as np\n",
        "\n",
        "# 기울기 a와 y 절편 b\n",
        "fake_a_b = [3,76]\n",
        "\n",
        "# x,y의 데이터 값\n",
        "data = [[2,81],[4,93],[6,91],[8,97]]\n",
        "x = [i[0] for i in data]\n",
        "y = [i[1] for i in data]\n",
        "\n",
        "# y= ax + b에 a와 b값을 대입하여 결과를 출력하는 함수\n",
        "def predict(x):\n",
        "  return fake_a_b[0]*x + fake_a_b[1]\n",
        "\n",
        "# MSE 함수\n",
        "def mse(y, y_hat):\n",
        "  return ((y-y_hat) ** 2).mean()\n",
        "\n",
        "# MSE 함수를 각 y 값에 대입하여 최종 값을 구하는 함수\n",
        "def mse_val(y, predict_result):\n",
        "  return mse(np.array(y), np.array(predict_result))\n",
        "\n",
        "# 예측값이 들어갈 빈 리스트\n",
        "predict_result = []\n",
        "\n",
        "# 모든 x값을 한 번씩 대입하여\n",
        "for i in range(len(x)):\n",
        "  # predict_reuslt 리스트를 완성\n",
        "  predict_result.append(predict(x[i]))\n",
        "  print(f'공부한 시간={x[i]}, 실제 점수:{y[i]}, 예측 점수:{predict(x[i])}')\n",
        "  predict(x[i])\n",
        "\n",
        "# 최종 MSE 출력\n",
        "print('mse 최종값:' + str(mse_val(y,predict_result)))"
      ]
    }
  ]
}
