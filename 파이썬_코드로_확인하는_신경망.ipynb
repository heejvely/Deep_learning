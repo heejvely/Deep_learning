{
  "nbformat": 4,
  "nbformat_minor": 0,
  "metadata": {
    "colab": {
      "name": "파이썬 코드로 확인하는 신경망.ipynb",
      "provenance": [],
      "collapsed_sections": [],
      "machine_shape": "hm",
      "authorship_tag": "ABX9TyP9g5ya4rvnM1hM87B7XAEj",
      "include_colab_link": true
    },
    "kernelspec": {
      "name": "python3",
      "display_name": "Python 3"
    },
    "language_info": {
      "name": "python"
    },
    "accelerator": "GPU"
  },
  "cells": [
    {
      "cell_type": "markdown",
      "metadata": {
        "id": "view-in-github",
        "colab_type": "text"
      },
      "source": [
        "<a href=\"https://colab.research.google.com/github/heejvely/Deep_learning/blob/main/%ED%8C%8C%EC%9D%B4%EC%8D%AC_%EC%BD%94%EB%93%9C%EB%A1%9C_%ED%99%95%EC%9D%B8%ED%95%98%EB%8A%94_%EC%8B%A0%EA%B2%BD%EB%A7%9D.ipynb\" target=\"_parent\"><img src=\"https://colab.research.google.com/assets/colab-badge.svg\" alt=\"Open In Colab\"/></a>"
      ]
    },
    {
      "cell_type": "code",
      "execution_count": 1,
      "metadata": {
        "colab": {
          "base_uri": "https://localhost:8080/"
        },
        "id": "VDZ-K_wEv_-s",
        "outputId": "fb5949e1-5800-48d3-ced5-e31ded339a04"
      },
      "outputs": [
        {
          "output_type": "stream",
          "name": "stdout",
          "text": [
            "Thu Dec 30 09:52:52 2021       \n",
            "+-----------------------------------------------------------------------------+\n",
            "| NVIDIA-SMI 495.44       Driver Version: 460.32.03    CUDA Version: 11.2     |\n",
            "|-------------------------------+----------------------+----------------------+\n",
            "| GPU  Name        Persistence-M| Bus-Id        Disp.A | Volatile Uncorr. ECC |\n",
            "| Fan  Temp  Perf  Pwr:Usage/Cap|         Memory-Usage | GPU-Util  Compute M. |\n",
            "|                               |                      |               MIG M. |\n",
            "|===============================+======================+======================|\n",
            "|   0  Tesla P100-PCIE...  Off  | 00000000:00:04.0 Off |                    0 |\n",
            "| N/A   40C    P0    26W / 250W |      0MiB / 16280MiB |      0%      Default |\n",
            "|                               |                      |                  N/A |\n",
            "+-------------------------------+----------------------+----------------------+\n",
            "                                                                               \n",
            "+-----------------------------------------------------------------------------+\n",
            "| Processes:                                                                  |\n",
            "|  GPU   GI   CI        PID   Type   Process name                  GPU Memory |\n",
            "|        ID   ID                                                   Usage      |\n",
            "|=============================================================================|\n",
            "|  No running processes found                                                 |\n",
            "+-----------------------------------------------------------------------------+\n"
          ]
        }
      ],
      "source": [
        "!nvidia-smi"
      ]
    },
    {
      "cell_type": "markdown",
      "source": [
        "## 1. 환경 변수 설정하기"
      ],
      "metadata": {
        "id": "ZuX0GxL4wf1T"
      }
    },
    {
      "cell_type": "code",
      "source": [
        "import numpy as np\n",
        "\n",
        "# 입력 값 및 타깃 값\n",
        "data = [\n",
        "        [[0,0],[0]],\n",
        "        [[0,1],[1]],\n",
        "        [[1,0],[1]],\n",
        "        [[1,1],[0]]\n",
        "]\n",
        "\n",
        "# 실행 횟수(iterations), 학습률(lr), 모멘텀 계수(mo) 설정\n",
        "iterations = 5000\n",
        "lr = 0.1\n",
        "mo = 0.9\n",
        "\n",
        "# 활성화 함수 -1. 시그모이드\n",
        "# 미분할 때와 아닐 때의 각각의 값\n",
        "def sigmoid(x, derivative = False):\n",
        "  if (derivative == True):\n",
        "    return x * (1 - x)\n",
        "  return 1 / (1 + np.exp(-x))\n",
        "\n",
        "# 활성화 함수 -2. tanh\n",
        "# tanh 함수의 미분은 1 - (활성화 함수 출력의 제곱)\n",
        "def tanh(x, derivative = False):\n",
        "  if (derivative == True):\n",
        "    return 1 - x ** 2\n",
        "  return np.tanh(x)\n",
        "\n",
        "# 가중치 배열을 만드는 함수\n",
        "def makeMatrix(i, j, fill = 0.0):\n",
        "  mat = []\n",
        "  for i in range(i):\n",
        "    mat.append([fill]*j)\n",
        "  return mat"
      ],
      "metadata": {
        "id": "qFkwDs8twd1m"
      },
      "execution_count": 2,
      "outputs": []
    },
    {
      "cell_type": "markdown",
      "source": [
        "## 2. 신경망의 실행\n",
        "\n",
        "신경망을 실행하는 클래스는 초깃값의 지정, 업데이트 함수 역전파 함수로 구성"
      ],
      "metadata": {
        "id": "qgTw2WAoxoLh"
      }
    },
    {
      "cell_type": "code",
      "source": [
        "# 신경망의 실행\n",
        "import random\n",
        "\n",
        "class NeuralNetwork:\n",
        "\n",
        "  # 초깃값 지정\n",
        "  def __init__(self, num_x, num_yh, num_yo, bias = 1):\n",
        "\n",
        "    # 입력 값(num_x), 은닉층의 초깃값(num_yh), 출력층의 초깃값(num_yo), 바이어스\n",
        "    self.num_x = num_x + bias   # 바이어스는 1로 설정\n",
        "    self.num_yh = num_yh\n",
        "    self.num_yo = num_yo\n",
        "\n",
        "    # 활성화 함수 초깃값\n",
        "    self.activation_input = [1.0] * self.num_x\n",
        "    self.activation_hidden = [1.0] * self.num_yh\n",
        "    self.activation_out = [1.0] * self.num_yo\n",
        "\n",
        "    # 가중치 입력 초깃값\n",
        "    self.weight_in = makeMatrix(self.num_x, self.num_yh)\n",
        "    for i in range(self.num_x):\n",
        "      for j in range(self.num_yh):\n",
        "        self.weight_in[i][j] = random.random()\n",
        "\n",
        "    # 가중치 출력 초깃값\n",
        "    self.weight_out = makeMatrix(self.num_yh, self.num_yo)\n",
        "    for j in range(self.num_yh):\n",
        "      for k in range(self.num_yo):\n",
        "        self.weight_out[j][k] = random.random()\n",
        "\n",
        "    # 모멘텀 SGD를 위한 이전 가중치 초깃값\n",
        "    self.gradient_in = makeMatrix(self.num_x, self.num_yh)\n",
        "    self.gradient_out = makeMatrix(self.num_yh, self.num_yo)\n",
        "\n",
        "  # 업데이트 함수\n",
        "  def update(self, inputs):\n",
        "\n",
        "    # 입력층의 활성화 함수\n",
        "    for i in range(self.num_x - 1):\n",
        "      self.activation_input[i] = inputs[i]\n",
        "\n",
        "    # 은닉층의 활성화 함수\n",
        "    for j in range(self.num_yh):\n",
        "      sum = 0.0\n",
        "      for i in range(self.num_x):\n",
        "        sum = sum + self.activation_input[i] * self.weight_in[i][j]\n",
        "      # 시그모이드와 tanh 중에서 활성화 함수 선택\n",
        "      self.activation_hidden[j] = tanh(sum, False)\n",
        "\n",
        "    # 출력층의 활성화 함수\n",
        "    for k in range(self.num_yo):\n",
        "      sum = 0.0\n",
        "      for j in range(self.num_yh):\n",
        "        sum = sum + self.activation_hidden[j] * self.weight_out[j][k]\n",
        "      # 시그모이드와 tanh 중에서 활성화 함수 선택\n",
        "      self.activation_out[k] = tanh(sum, False)\n",
        "\n",
        "    return self.activation_out[:]\n",
        "\n",
        "\n",
        "  # 역전파 실행\n",
        "  def backPropagate(self, targets):\n",
        "\n",
        "    # 델타 출력 계산\n",
        "    output_deltas = [0.0] * self.num_yo\n",
        "    for k in range(self.num_yo):\n",
        "      error = targets[k] - self.activation_out[k]\n",
        "      # 시그모이드와 tanh 중에서 활성화 함수 선택, 미분 적용\n",
        "      output_deltas[k] = tanh(self.activation_out[k], True) * error\n",
        "\n",
        "    # 은닉 노드의 오차 함수\n",
        "    hidden_deltas = [0.0] * self.num_yh\n",
        "\n",
        "    for j in range(self.num_yh):\n",
        "      error = 0.0\n",
        "      for k in range(self.num_yo):\n",
        "        error = error + output_deltas[k] * self.weight_out[j][k]\n",
        "        # 시그모이드와 tanh 중에서 활성화 함수 선택, 미분 적용\n",
        "      hidden_deltas[j] = tanh(self.activation_hidden[j], True) * error\n",
        "\n",
        "    # 출력 가중치 업데이트\n",
        "    for j in range(self.num_yh):\n",
        "      for k in range(self.num_yo):\n",
        "        gradient = output_deltas[k] * self.activation_hidden[j]\n",
        "        v = mo * self.gradient_out[j][k] - lr * gradient\n",
        "        self.weight_out[j][k] += v\n",
        "        self.gradient_out[j][k] = gradient\n",
        "\n",
        "    # 입력 가중치 업데이트\n",
        "    for i in range(self.num_x):\n",
        "      for j in range(self.num_yh):\n",
        "        gradient = hidden_deltas[j] * self.activation_input[i]\n",
        "        v = mo * self.gradient_in[i][j] - lr * gradient\n",
        "        self.weight_in[i][j] += v\n",
        "        self.gradient_in[i][j] = gradient\n",
        "\n",
        "    # 오차 계산(최소 제곱법)\n",
        "    error = 0.0\n",
        "    for k in range(len(targets)):\n",
        "      error = error + 0.5 * (targets[k] - self.activation_out[k]) ** 2\n",
        "    return error\n",
        "\n",
        "\n",
        "  # 학습 실행\n",
        "  def train(self, patterns):\n",
        "    for i in range(iterations):\n",
        "      error = 0.0\n",
        "      for p in patterns:\n",
        "        inputs = p[0]\n",
        "        targets = p[1]\n",
        "        self.update(inputs)\n",
        "        error = error + self.backPropagate(targets)\n",
        "      if i % 500 == 0:\n",
        "        print(f'error: {error}')\n",
        "\n",
        "  # 결괏 값 출력\n",
        "  def result(self, patterns):\n",
        "    for p in patterns:\n",
        "      print(f'Input: {p[0]}, Predict: {self.update(p[0])}')\n",
        "\n",
        "if __name__ == '__main__':\n",
        "  # 두 개의 입력 값, 두 개의 레이어, 하나의 출력 값을 갖도록 설정\n",
        "  n = NeuralNetwork(2,2,1)\n",
        "\n",
        "  # 학습 실행\n",
        "  n.train(data)\n",
        "\n",
        "  n.result(data)"
      ],
      "metadata": {
        "colab": {
          "base_uri": "https://localhost:8080/"
        },
        "id": "eamJqXScxncm",
        "outputId": "2f4b225e-fa7a-4128-9eff-89cc08170cc1"
      },
      "execution_count": 12,
      "outputs": [
        {
          "output_type": "stream",
          "name": "stdout",
          "text": [
            "error: 0.6096632771599075\n",
            "error: 0.34667118477334985\n",
            "error: 0.3368694003749837\n",
            "error: 0.33441608500761266\n",
            "error: 0.33342460033168464\n",
            "error: 0.3328804460459711\n",
            "error: 0.3325322476204631\n",
            "error: 0.33228965995670784\n",
            "error: 0.33211091332421905\n",
            "error: 0.3319737485911143\n",
            "Input: [0, 0], Predict: [0.5476893005551287]\n",
            "Input: [0, 1], Predict: [0.9122195754289125]\n",
            "Input: [1, 0], Predict: [0.9332152022971647]\n",
            "Input: [1, 1], Predict: [-0.405633060050836]\n"
          ]
        }
      ]
    }
  ]
}